{
  "nbformat": 4,
  "nbformat_minor": 0,
  "metadata": {
    "colab": {
      "provenance": []
    },
    "kernelspec": {
      "name": "python3",
      "display_name": "Python 3"
    },
    "language_info": {
      "name": "python"
    }
  },
  "cells": [
    {
      "cell_type": "markdown",
      "source": [
        "**1-Multiple Linear Regression**"
      ],
      "metadata": {
        "id": "-VFwJbQ6Jp-s"
      }
    },
    {
      "cell_type": "code",
      "source": [
        "import pandas as pd\n",
        "from sklearn.model_selection import train_test_split\n",
        "from sklearn.linear_model import LinearRegression\n",
        "from sklearn.metrics import mean_absolute_error, mean_squared_error, r2_score\n",
        "\n",
        "# Load the dataset\n",
        "file_path = '/content/Housing.csv'\n",
        "housing_data = pd.read_csv(file_path)\n",
        "\n",
        "# Convert categorical variables to dummy variables\n",
        "housing_data = pd.get_dummies(housing_data, drop_first=True)\n",
        "\n",
        "# Define independent and dependent variables\n",
        "X = housing_data.drop('price', axis=1)\n",
        "y = housing_data['price']\n",
        "\n",
        "# Split the data into training and testing sets\n",
        "X_train, X_test, y_train, y_test = train_test_split(X, y, test_size=0.2, random_state=42)\n",
        "\n",
        "# Fit the multiple linear regression model\n",
        "mlr = LinearRegression()\n",
        "mlr.fit(X_train, y_train)\n",
        "\n",
        "# Predict on the test set\n",
        "y_pred = mlr.predict(X_test)\n",
        "\n",
        "# Evaluate the model\n",
        "mae = mean_absolute_error(y_test, y_pred)\n",
        "rmse = mean_squared_error(y_test, y_pred, squared=False)  # squared=False to get RMSE\n",
        "r2 = r2_score(y_test, y_pred)\n",
        "adjusted_r2 = 1 - (1-r2) * (len(y_test)-1) / (len(y_test) - X_test.shape[1] - 1)\n",
        "\n",
        "# Print evaluation metrics\n",
        "print(f\"Mean Absolute Error (MAE): {mae}\")\n",
        "print(f\"Root Mean Squared Error (RMSE): {rmse}\")\n",
        "print(f\"R-squared (R²): {r2}\")\n",
        "print(f\"Adjusted R-squared: {adjusted_r2}\")\n"
      ],
      "metadata": {
        "colab": {
          "base_uri": "https://localhost:8080/"
        },
        "id": "ESnhVV_JJu-0",
        "outputId": "3a515e2b-da3e-4377-aaa0-867112b94f6d"
      },
      "execution_count": 13,
      "outputs": [
        {
          "output_type": "stream",
          "name": "stdout",
          "text": [
            "Mean Absolute Error (MAE): 970043.4039201636\n",
            "Root Mean Squared Error (RMSE): 1324506.9600914386\n",
            "R-squared (R²): 0.6529242642153184\n",
            "Adjusted R-squared: 0.6054296898447831\n"
          ]
        }
      ]
    },
    {
      "cell_type": "markdown",
      "source": [
        "**2-Ridge Regression**"
      ],
      "metadata": {
        "id": "gR2NHyQAKkcU"
      }
    },
    {
      "cell_type": "code",
      "source": [
        "import pandas as pd\n",
        "from sklearn.model_selection import train_test_split\n",
        "from sklearn.linear_model import Ridge\n",
        "from sklearn.metrics import mean_absolute_error, mean_squared_error, r2_score\n",
        "from sklearn.preprocessing import StandardScaler\n",
        "\n",
        "# Load the dataset\n",
        "file_path = '/content/Housing.csv'\n",
        "housing_data = pd.read_csv(file_path)\n",
        "\n",
        "# Convert categorical variables to dummy variables\n",
        "housing_data = pd.get_dummies(housing_data, drop_first=True)\n",
        "\n",
        "# Define independent and dependent variables\n",
        "X = housing_data.drop('price', axis=1)\n",
        "y = housing_data['price']\n",
        "\n",
        "# Split the data into training and testing sets\n",
        "X_train, X_test, y_train, y_test = train_test_split(X, y, test_size=0.2, random_state=42)\n",
        "\n",
        "# Standardize the data\n",
        "scaler = StandardScaler()\n",
        "X_train = scaler.fit_transform(X_train)\n",
        "X_test = scaler.transform(X_test)\n",
        "\n",
        "# Fit the ridge regression model\n",
        "ridge = Ridge(alpha=1.0)  # alpha is the regularization parameter\n",
        "ridge.fit(X_train, y_train)\n",
        "\n",
        "# Predict on the test set\n",
        "y_pred = ridge.predict(X_test)\n",
        "\n",
        "# Evaluate the model\n",
        "mae = mean_absolute_error(y_test, y_pred)\n",
        "rmse = mean_squared_error(y_test, y_pred, squared=False)\n",
        "r2 = r2_score(y_test, y_pred)\n",
        "adjusted_r2 = 1 - (1-r2) * (len(y_test)-1) / (len(y_test) - X_test.shape[1] - 1)\n",
        "\n",
        "# Print evaluation metrics\n",
        "print(f\"Mean Absolute Error (MAE): {mae}\")\n",
        "print(f\"Root Mean Squared Error (RMSE): {rmse}\")\n",
        "print(f\"R-squared (R²): {r2}\")\n",
        "print(f\"Adjusted R-squared: {adjusted_r2}\")\n"
      ],
      "metadata": {
        "colab": {
          "base_uri": "https://localhost:8080/"
        },
        "id": "5AJIHbhWKoHs",
        "outputId": "16dbbe18-d061-4958-fa72-1dc506db32ac"
      },
      "execution_count": 14,
      "outputs": [
        {
          "output_type": "stream",
          "name": "stdout",
          "text": [
            "Mean Absolute Error (MAE): 969857.9028478259\n",
            "Root Mean Squared Error (RMSE): 1324703.4866138187\n",
            "R-squared (R²): 0.6528212603810125\n",
            "Adjusted R-squared: 0.6053125907489405\n"
          ]
        }
      ]
    },
    {
      "cell_type": "markdown",
      "source": [
        "**3-Lasso Regression**"
      ],
      "metadata": {
        "id": "-4aPwIAOLOhb"
      }
    },
    {
      "cell_type": "code",
      "source": [
        "import pandas as pd\n",
        "from sklearn.model_selection import train_test_split\n",
        "from sklearn.linear_model import Lasso\n",
        "from sklearn.metrics import mean_absolute_error, mean_squared_error, r2_score\n",
        "from sklearn.preprocessing import StandardScaler\n",
        "\n",
        "# Load the dataset\n",
        "file_path = '/content/Housing.csv'\n",
        "housing_data = pd.read_csv(file_path)\n",
        "\n",
        "# Convert categorical variables to dummy variables\n",
        "housing_data = pd.get_dummies(housing_data, drop_first=True)\n",
        "\n",
        "# Define independent and dependent variables\n",
        "X = housing_data.drop('price', axis=1)\n",
        "y = housing_data['price']\n",
        "\n",
        "# Split the data into training and testing sets\n",
        "X_train, X_test, y_train, y_test = train_test_split(X, y, test_size=0.2, random_state=42)\n",
        "\n",
        "# Standardize the data\n",
        "scaler = StandardScaler()\n",
        "X_train = scaler.fit_transform(X_train)\n",
        "X_test = scaler.transform(X_test)\n",
        "\n",
        "# Fit the lasso regression model\n",
        "lasso = Lasso(alpha=1.0)  # alpha is the regularization parameter\n",
        "lasso.fit(X_train, y_train)\n",
        "\n",
        "# Predict on the test set\n",
        "y_pred = lasso.predict(X_test)\n",
        "\n",
        "# Evaluate the model\n",
        "mae = mean_absolute_error(y_test, y_pred)\n",
        "rmse = mean_squared_error(y_test, y_pred, squared=False)\n",
        "r2 = r2_score(y_test, y_pred)\n",
        "adjusted_r2 = 1 - (1-r2) * (len(y_test)-1) / (len(y_test) - X_test.shape[1] - 1)\n",
        "\n",
        "# Print evaluation metrics\n",
        "print(f\"Mean Absolute Error (MAE): {mae}\")\n",
        "print(f\"Root Mean Squared Error (RMSE): {rmse}\")\n",
        "print(f\"R-squared (R²): {r2}\")\n",
        "print(f\"Adjusted R-squared: {adjusted_r2}\")\n",
        "\n",
        "# Print the coefficients\n",
        "print(f\"Coefficients: {lasso.coef_}\")\n"
      ],
      "metadata": {
        "colab": {
          "base_uri": "https://localhost:8080/"
        },
        "id": "2QFZsg6sLRtD",
        "outputId": "3614b86f-f1f5-4639-c08c-70bed5eeaae7"
      },
      "execution_count": 16,
      "outputs": [
        {
          "output_type": "stream",
          "name": "stdout",
          "text": [
            "Mean Absolute Error (MAE): 970043.4056972674\n",
            "Root Mean Squared Error (RMSE): 1324507.4534974392\n",
            "R-squared (R²): 0.6529240056296141\n",
            "Adjusted R-squared: 0.6054293958736665\n",
            "Coefficients: [ 519552.19145759   57349.25727342  521878.76074471  349250.9593994\n",
            "  192005.64208111  128498.27282894   88768.30056116  187067.23793852\n",
            "  149861.68687237  365157.15443591  266655.81624671  -62835.14662636\n",
            " -192014.11306384]\n"
          ]
        }
      ]
    },
    {
      "cell_type": "markdown",
      "source": [
        "**4-Polynomial Regression**"
      ],
      "metadata": {
        "id": "Tqw7ak6ZLdXC"
      }
    }
  ]
}