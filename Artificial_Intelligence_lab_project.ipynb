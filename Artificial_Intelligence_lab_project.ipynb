{
  "nbformat": 4,
  "nbformat_minor": 0,
  "metadata": {
    "colab": {
      "provenance": []
    },
    "kernelspec": {
      "name": "python3",
      "display_name": "Python 3"
    },
    "language_info": {
      "name": "python"
    }
  },
  "cells": [
    {
      "cell_type": "markdown",
      "source": [
        "**1-Multiple Linear Regression**"
      ],
      "metadata": {
        "id": "-VFwJbQ6Jp-s"
      }
    },
    {
      "cell_type": "code",
      "source": [
        "import pandas as pd\n",
        "from sklearn.model_selection import train_test_split\n",
        "from sklearn.linear_model import LinearRegression\n",
        "from sklearn.metrics import mean_absolute_error, mean_squared_error, r2_score\n",
        "\n",
        "# Load the dataset\n",
        "file_path = '/content/Housing.csv'\n",
        "housing_data = pd.read_csv(file_path)\n",
        "\n",
        "# Convert categorical variables to dummy variables\n",
        "housing_data = pd.get_dummies(housing_data, drop_first=True)\n",
        "\n",
        "# Define independent and dependent variables\n",
        "X = housing_data.drop('price', axis=1)\n",
        "y = housing_data['price']\n",
        "\n",
        "# Split the data into training and testing sets\n",
        "X_train, X_test, y_train, y_test = train_test_split(X, y, test_size=0.2, random_state=42)\n",
        "\n",
        "# Fit the multiple linear regression model\n",
        "mlr = LinearRegression()\n",
        "mlr.fit(X_train, y_train)\n",
        "\n",
        "# Predict on the test set\n",
        "y_pred = mlr.predict(X_test)\n",
        "\n",
        "# Evaluate the model\n",
        "mae = mean_absolute_error(y_test, y_pred)\n",
        "rmse = mean_squared_error(y_test, y_pred, squared=False)  # squared=False to get RMSE\n",
        "r2 = r2_score(y_test, y_pred)\n",
        "adjusted_r2 = 1 - (1-r2) * (len(y_test)-1) / (len(y_test) - X_test.shape[1] - 1)\n",
        "\n",
        "# Print evaluation metrics\n",
        "print(f\"Mean Absolute Error (MAE): {mae}\")\n",
        "print(f\"Root Mean Squared Error (RMSE): {rmse}\")\n",
        "print(f\"R-squared (R²): {r2}\")\n",
        "print(f\"Adjusted R-squared: {adjusted_r2}\")\n"
      ],
      "metadata": {
        "colab": {
          "base_uri": "https://localhost:8080/"
        },
        "id": "ESnhVV_JJu-0",
        "outputId": "3a515e2b-da3e-4377-aaa0-867112b94f6d"
      },
      "execution_count": null,
      "outputs": [
        {
          "output_type": "stream",
          "name": "stdout",
          "text": [
            "Mean Absolute Error (MAE): 970043.4039201636\n",
            "Root Mean Squared Error (RMSE): 1324506.9600914386\n",
            "R-squared (R²): 0.6529242642153184\n",
            "Adjusted R-squared: 0.6054296898447831\n"
          ]
        }
      ]
    },
    {
      "cell_type": "markdown",
      "source": [
        "**2-Ridge Regression**"
      ],
      "metadata": {
        "id": "gR2NHyQAKkcU"
      }
    },
    {
      "cell_type": "code",
      "source": [
        "import pandas as pd\n",
        "from sklearn.model_selection import train_test_split\n",
        "from sklearn.linear_model import Ridge\n",
        "from sklearn.metrics import mean_absolute_error, mean_squared_error, r2_score\n",
        "from sklearn.preprocessing import StandardScaler\n",
        "\n",
        "# Load the dataset\n",
        "file_path = '/content/Housing.csv'\n",
        "housing_data = pd.read_csv(file_path)\n",
        "\n",
        "# Convert categorical variables to dummy variables\n",
        "housing_data = pd.get_dummies(housing_data, drop_first=True)\n",
        "\n",
        "# Define independent and dependent variables\n",
        "X = housing_data.drop('price', axis=1)\n",
        "y = housing_data['price']\n",
        "\n",
        "# Split the data into training and testing sets\n",
        "X_train, X_test, y_train, y_test = train_test_split(X, y, test_size=0.2, random_state=42)\n",
        "\n",
        "# Standardize the data\n",
        "scaler = StandardScaler()\n",
        "X_train = scaler.fit_transform(X_train)\n",
        "X_test = scaler.transform(X_test)\n",
        "\n",
        "# Fit the ridge regression model\n",
        "ridge = Ridge(alpha=1.0)  # alpha is the regularization parameter\n",
        "ridge.fit(X_train, y_train)\n",
        "\n",
        "# Predict on the test set\n",
        "y_pred = ridge.predict(X_test)\n",
        "\n",
        "# Evaluate the model\n",
        "mae = mean_absolute_error(y_test, y_pred)\n",
        "rmse = mean_squared_error(y_test, y_pred, squared=False)\n",
        "r2 = r2_score(y_test, y_pred)\n",
        "adjusted_r2 = 1 - (1-r2) * (len(y_test)-1) / (len(y_test) - X_test.shape[1] - 1)\n",
        "\n",
        "# Print evaluation metrics\n",
        "print(f\"Mean Absolute Error (MAE): {mae}\")\n",
        "print(f\"Root Mean Squared Error (RMSE): {rmse}\")\n",
        "print(f\"R-squared (R²): {r2}\")\n",
        "print(f\"Adjusted R-squared: {adjusted_r2}\")\n"
      ],
      "metadata": {
        "colab": {
          "base_uri": "https://localhost:8080/"
        },
        "id": "5AJIHbhWKoHs",
        "outputId": "16dbbe18-d061-4958-fa72-1dc506db32ac"
      },
      "execution_count": null,
      "outputs": [
        {
          "output_type": "stream",
          "name": "stdout",
          "text": [
            "Mean Absolute Error (MAE): 969857.9028478259\n",
            "Root Mean Squared Error (RMSE): 1324703.4866138187\n",
            "R-squared (R²): 0.6528212603810125\n",
            "Adjusted R-squared: 0.6053125907489405\n"
          ]
        }
      ]
    },
    {
      "cell_type": "markdown",
      "source": [
        "**3-Lasso Regression**"
      ],
      "metadata": {
        "id": "-4aPwIAOLOhb"
      }
    },
    {
      "cell_type": "code",
      "source": [
        "import pandas as pd\n",
        "from sklearn.model_selection import train_test_split\n",
        "from sklearn.linear_model import Lasso\n",
        "from sklearn.metrics import mean_absolute_error, mean_squared_error, r2_score\n",
        "from sklearn.preprocessing import StandardScaler\n",
        "\n",
        "# Load the dataset\n",
        "file_path = '/content/Housing.csv'\n",
        "housing_data = pd.read_csv(file_path)\n",
        "\n",
        "# Convert categorical variables to dummy variables\n",
        "housing_data = pd.get_dummies(housing_data, drop_first=True)\n",
        "\n",
        "# Define independent and dependent variables\n",
        "X = housing_data.drop('price', axis=1)\n",
        "y = housing_data['price']\n",
        "\n",
        "# Split the data into training and testing sets\n",
        "X_train, X_test, y_train, y_test = train_test_split(X, y, test_size=0.2, random_state=42)\n",
        "\n",
        "# Standardize the data\n",
        "scaler = StandardScaler()\n",
        "X_train = scaler.fit_transform(X_train)\n",
        "X_test = scaler.transform(X_test)\n",
        "\n",
        "# Fit the lasso regression model\n",
        "lasso = Lasso(alpha=1.0)  # alpha is the regularization parameter\n",
        "lasso.fit(X_train, y_train)\n",
        "\n",
        "# Predict on the test set\n",
        "y_pred = lasso.predict(X_test)\n",
        "\n",
        "# Evaluate the model\n",
        "mae = mean_absolute_error(y_test, y_pred)\n",
        "rmse = mean_squared_error(y_test, y_pred, squared=False)\n",
        "r2 = r2_score(y_test, y_pred)\n",
        "adjusted_r2 = 1 - (1-r2) * (len(y_test)-1) / (len(y_test) - X_test.shape[1] - 1)\n",
        "\n",
        "# Print evaluation metrics\n",
        "print(f\"Mean Absolute Error (MAE): {mae}\")\n",
        "print(f\"Root Mean Squared Error (RMSE): {rmse}\")\n",
        "print(f\"R-squared (R²): {r2}\")\n",
        "print(f\"Adjusted R-squared: {adjusted_r2}\")\n",
        "\n",
        "# Print the coefficients\n",
        "print(f\"Coefficients: {lasso.coef_}\")\n"
      ],
      "metadata": {
        "colab": {
          "base_uri": "https://localhost:8080/"
        },
        "id": "2QFZsg6sLRtD",
        "outputId": "3614b86f-f1f5-4639-c08c-70bed5eeaae7"
      },
      "execution_count": null,
      "outputs": [
        {
          "output_type": "stream",
          "name": "stdout",
          "text": [
            "Mean Absolute Error (MAE): 970043.4056972674\n",
            "Root Mean Squared Error (RMSE): 1324507.4534974392\n",
            "R-squared (R²): 0.6529240056296141\n",
            "Adjusted R-squared: 0.6054293958736665\n",
            "Coefficients: [ 519552.19145759   57349.25727342  521878.76074471  349250.9593994\n",
            "  192005.64208111  128498.27282894   88768.30056116  187067.23793852\n",
            "  149861.68687237  365157.15443591  266655.81624671  -62835.14662636\n",
            " -192014.11306384]\n"
          ]
        }
      ]
    },
    {
      "cell_type": "markdown",
      "source": [
        "**4-Polynomial Regression**"
      ],
      "metadata": {
        "id": "Tqw7ak6ZLdXC"
      }
    },
    {
      "cell_type": "code",
      "source": [
        "import pandas as pd\n",
        "from sklearn.preprocessing import StandardScaler, PolynomialFeatures\n",
        "from sklearn.model_selection import train_test_split\n",
        "from sklearn.linear_model import LinearRegression\n",
        "from sklearn.metrics import mean_squared_error, mean_absolute_error, r2_score, accuracy_score, precision_score, recall_score, f1_score\n",
        "\n",
        "# Load the dataset\n",
        "file_path = '/content/drive/MyDrive/AI_project_Dataset/Housing.csv'\n",
        "data = pd.read_csv('/content/drive/MyDrive/AI_project_Dataset/Housing.csv')\n",
        "\n",
        "# Assuming the target variable is 'price' and the rest are features\n",
        "X = data.drop('price', axis=1)\n",
        "y = data['price']\n",
        "\n",
        "# Encoding categorical variables if any\n",
        "X = pd.get_dummies(X)\n",
        "\n",
        "# Scaling the features\n",
        "scaler = StandardScaler()\n",
        "X_scaled = scaler.fit_transform(X)\n",
        "\n",
        "# Splitting the data into training and testing sets\n",
        "X_train, X_test, y_train, y_test = train_test_split(X_scaled, y, test_size=0.2, random_state=42)\n",
        "\n",
        "# Transforming the features to polynomial features\n",
        "poly = PolynomialFeatures(degree=2)  # Change the degree as needed\n",
        "X_train_poly = poly.fit_transform(X_train)\n",
        "X_test_poly = poly.transform(X_test)\n",
        "\n",
        "# Applying Linear Regression on polynomial features\n",
        "model = LinearRegression()\n",
        "model.fit(X_train_poly, y_train)\n",
        "\n",
        "# Making predictions\n",
        "y_pred = model.predict(X_test_poly)\n",
        "\n",
        "# Evaluating the model\n",
        "rmse = mean_squared_error(y_test, y_pred, squared=False)\n",
        "mae = mean_absolute_error(y_test, y_pred)\n",
        "r2 = r2_score(y_test, y_pred)\n",
        "\n",
        "# For classification metrics, assuming a threshold\n",
        "threshold = y.median()\n",
        "y_test_class = (y_test > threshold).astype(int)\n",
        "y_pred_class = (y_pred > threshold).astype(int)\n",
        "\n",
        "accuracy = accuracy_score(y_test_class, y_pred_class)\n",
        "precision = precision_score(y_test_class, y_pred_class)\n",
        "recall = recall_score(y_test_class, y_pred_class)\n",
        "f1 = f1_score(y_test_class, y_pred_class)\n",
        "\n",
        "# Print the evaluation metrics\n",
        "print(f\"RMSE: {rmse}\")\n",
        "print(f\"MAE: {mae}\")\n",
        "print(f\"R2 Score: {r2}\")\n",
        "print(f\"Accuracy: {accuracy}\")\n",
        "print(f\"Precision: {precision}\")\n",
        "print(f\"Recall: {recall}\")\n",
        "print(f\"F1-Score: {f1}\")\n",
        "\n"
      ],
      "metadata": {
        "id": "q_lJPEbEMjaq",
        "colab": {
          "base_uri": "https://localhost:8080/"
        },
        "outputId": "3262ef11-e7c2-48e6-c2ac-f4e9b24888b4"
      },
      "execution_count": 1,
      "outputs": [
        {
          "output_type": "stream",
          "name": "stdout",
          "text": [
            "RMSE: 1.0091366371397685e+17\n",
            "MAE: 1.3669471460625156e+16\n",
            "R2 Score: -2.014724700188259e+21\n",
            "Accuracy: 0.7889908256880734\n",
            "Precision: 0.8181818181818182\n",
            "Recall: 0.7758620689655172\n",
            "F1-Score: 0.7964601769911505\n"
          ]
        }
      ]
    },
    {
      "cell_type": "markdown",
      "source": [
        "**5-Decision Tree Regression**"
      ],
      "metadata": {
        "id": "UtgcJvXDOPSJ"
      }
    },
    {
      "cell_type": "code",
      "source": [
        "import pandas as pd\n",
        "from sklearn.preprocessing import StandardScaler\n",
        "from sklearn.model_selection import train_test_split\n",
        "from sklearn.tree import DecisionTreeRegressor\n",
        "from sklearn.metrics import mean_squared_error, mean_absolute_error, r2_score, accuracy_score, precision_score, recall_score, f1_score\n",
        "\n",
        "# Load the dataset\n",
        "file_path = '/content/drive/MyDrive/AI_project_Dataset/Housing.csv'\n",
        "data = pd.read_csv('/content/drive/MyDrive/AI_project_Dataset/Housing.csv')\n",
        "\n",
        "# Assuming the target variable is 'price' and the rest are features\n",
        "X = data.drop('price', axis=1)\n",
        "y = data['price']\n",
        "\n",
        "# Encoding categorical variables if any\n",
        "X = pd.get_dummies(X)\n",
        "\n",
        "# Scaling the features\n",
        "scaler = StandardScaler()\n",
        "X_scaled = scaler.fit_transform(X)\n",
        "\n",
        "# Splitting the data into training and testing sets\n",
        "X_train, X_test, y_train, y_test = train_test_split(X_scaled, y, test_size=0.2, random_state=42)\n",
        "\n",
        "# Applying Decision Tree Regression\n",
        "model = DecisionTreeRegressor(random_state=42)\n",
        "model.fit(X_train, y_train)\n",
        "\n",
        "# Making predictions\n",
        "y_pred = model.predict(X_test)\n",
        "\n",
        "# Evaluating the model\n",
        "rmse = mean_squared_error(y_test, y_pred, squared=False)\n",
        "mae = mean_absolute_error(y_test, y_pred)\n",
        "r2 = r2_score(y_test, y_pred)\n",
        "\n",
        "# For classification metrics, assuming a threshold\n",
        "threshold = y.median()\n",
        "y_test_class = (y_test > threshold).astype(int)\n",
        "y_pred_class = (y_pred > threshold).astype(int)\n",
        "\n",
        "accuracy = accuracy_score(y_test_class, y_pred_class)\n",
        "precision = precision_score(y_test_class, y_pred_class)\n",
        "recall = recall_score(y_test_class, y_pred_class)\n",
        "f1 = f1_score(y_test_class, y_pred_class)\n",
        "\n",
        "# Print the evaluation metrics\n",
        "print(f\"RMSE: {rmse}\")\n",
        "print(f\"MAE: {mae}\")\n",
        "print(f\"R2 Score: {r2}\")\n",
        "print(f\"Accuracy: {accuracy}\")\n",
        "print(f\"Precision: {precision}\")\n",
        "print(f\"Recall: {recall}\")\n",
        "print(f\"F1-Score: {f1}\")\n"
      ],
      "metadata": {
        "colab": {
          "base_uri": "https://localhost:8080/"
        },
        "id": "GAhHVyn8OY-6",
        "outputId": "1018fed0-c67e-494a-d0f9-7400bef88ee2"
      },
      "execution_count": 2,
      "outputs": [
        {
          "output_type": "stream",
          "name": "stdout",
          "text": [
            "RMSE: 1699626.144131854\n",
            "MAE: 1234857.7981651376\n",
            "R2 Score: 0.4284916641732388\n",
            "Accuracy: 0.7981651376146789\n",
            "Precision: 0.8333333333333334\n",
            "Recall: 0.7758620689655172\n",
            "F1-Score: 0.8035714285714286\n"
          ]
        }
      ]
    },
    {
      "cell_type": "markdown",
      "source": [
        "**6-Random Forest Regression**"
      ],
      "metadata": {
        "id": "AnC1iI83O-9Y"
      }
    },
    {
      "cell_type": "code",
      "source": [
        "import pandas as pd\n",
        "from sklearn.preprocessing import StandardScaler\n",
        "from sklearn.model_selection import train_test_split\n",
        "from sklearn.ensemble import RandomForestRegressor\n",
        "from sklearn.metrics import mean_squared_error, mean_absolute_error, r2_score, accuracy_score, precision_score, recall_score, f1_score\n",
        "\n",
        "# Load the dataset\n",
        "file_path = '/content/drive/MyDrive/AI_project_Dataset/Housing.csv'\n",
        "data = pd.read_csv('/content/drive/MyDrive/AI_project_Dataset/Housing.csv')\n",
        "\n",
        "# Assuming the target variable is 'price' and the rest are features\n",
        "X = data.drop('price', axis=1)\n",
        "y = data['price']\n",
        "\n",
        "# Encoding categorical variables if any\n",
        "X = pd.get_dummies(X)\n",
        "\n",
        "# Scaling the features\n",
        "scaler = StandardScaler()\n",
        "X_scaled = scaler.fit_transform(X)\n",
        "\n",
        "# Splitting the data into training and testing sets\n",
        "X_train, X_test, y_train, y_test = train_test_split(X_scaled, y, test_size=0.2, random_state=42)\n",
        "\n",
        "# Applying Random Forest Regression\n",
        "model = RandomForestRegressor(random_state=42, n_estimators=100)\n",
        "model.fit(X_train, y_train)\n",
        "\n",
        "# Making predictions\n",
        "y_pred = model.predict(X_test)\n",
        "\n",
        "# Evaluating the model\n",
        "rmse = mean_squared_error(y_test, y_pred, squared=False)\n",
        "mae = mean_absolute_error(y_test, y_pred)\n",
        "r2 = r2_score(y_test, y_pred)\n",
        "\n",
        "# For classification metrics, assuming a threshold\n",
        "threshold = y.median()\n",
        "y_test_class = (y_test > threshold).astype(int)\n",
        "y_pred_class = (y_pred > threshold).astype(int)\n",
        "\n",
        "accuracy = accuracy_score(y_test_class, y_pred_class)\n",
        "precision = precision_score(y_test_class, y_pred_class)\n",
        "recall = recall_score(y_test_class, y_pred_class)\n",
        "f1 = f1_score(y_test_class, y_pred_class)\n",
        "\n",
        "# Print the evaluation metrics\n",
        "print(f\"RMSE: {rmse}\")\n",
        "print(f\"MAE: {mae}\")\n",
        "print(f\"R2 Score: {r2}\")\n",
        "print(f\"Accuracy: {accuracy}\")\n",
        "print(f\"Precision: {precision}\")\n",
        "print(f\"Recall: {recall}\")\n",
        "print(f\"F1-Score: {f1}\")\n"
      ],
      "metadata": {
        "colab": {
          "base_uri": "https://localhost:8080/"
        },
        "id": "NzxozhhSPIkp",
        "outputId": "a4e93fb2-a3ee-4729-fdbd-24a7778ac9de"
      },
      "execution_count": 3,
      "outputs": [
        {
          "output_type": "stream",
          "name": "stdout",
          "text": [
            "RMSE: 1404604.5124413748\n",
            "MAE: 1024050.8876146789\n",
            "R2 Score: 0.6096772346191941\n",
            "Accuracy: 0.7889908256880734\n",
            "Precision: 0.8070175438596491\n",
            "Recall: 0.7931034482758621\n",
            "F1-Score: 0.8\n"
          ]
        }
      ]
    },
    {
      "cell_type": "markdown",
      "source": [
        "**Classification Models**\n",
        "\n"
      ],
      "metadata": {
        "id": "QRvlzCq8QPdd"
      }
    },
    {
      "cell_type": "markdown",
      "source": [
        "**1-Logistic Regression**"
      ],
      "metadata": {
        "id": "aJpQNqX8QYPf"
      }
    },
    {
      "cell_type": "code",
      "source": [
        "import pandas as pd\n",
        "from sklearn.preprocessing import StandardScaler\n",
        "from sklearn.model_selection import train_test_split\n",
        "from sklearn.linear_model import LogisticRegression\n",
        "from sklearn.metrics import accuracy_score, precision_score, recall_score, f1_score, mean_squared_error, mean_absolute_error\n",
        "\n",
        "# Load the dataset\n",
        "file_path = '/content/drive/MyDrive/AI_project_Dataset/Housing.csv'\n",
        "data = pd.read_csv('/content/drive/MyDrive/AI_project_Dataset/Housing.csv')\n",
        "\n",
        "# Assuming the target variable is 'price' and the rest are features\n",
        "X = data.drop('price', axis=1)\n",
        "y = data['price']\n",
        "\n",
        "# Convert the target variable to a binary classification problem\n",
        "threshold = y.median()\n",
        "y_binary = (y > threshold).astype(int)\n",
        "\n",
        "# Encoding categorical variables if any\n",
        "X = pd.get_dummies(X)\n",
        "\n",
        "# Scaling the features\n",
        "scaler = StandardScaler()\n",
        "X_scaled = scaler.fit_transform(X)\n",
        "\n",
        "# Splitting the data into training and testing sets\n",
        "X_train, X_test, y_train, y_test = train_test_split(X_scaled, y_binary, test_size=0.2, random_state=42)\n",
        "\n",
        "# Applying Logistic Regression\n",
        "model = LogisticRegression(random_state=42)\n",
        "model.fit(X_train, y_train)\n",
        "\n",
        "# Making predictions\n",
        "y_pred = model.predict(X_test)\n",
        "y_pred_prob = model.predict_proba(X_test)[:, 1]  # Probabilities for the positive class\n",
        "\n",
        "# Evaluating the model\n",
        "accuracy = accuracy_score(y_test, y_pred)\n",
        "precision = precision_score(y_test, y_pred)\n",
        "recall = recall_score(y_test, y_pred)\n",
        "f1 = f1_score(y_test, y_pred)\n",
        "rmse = mean_squared_error(y_test, y_pred_prob, squared=False)\n",
        "mae = mean_absolute_error(y_test, y_pred_prob)\n",
        "\n",
        "# Print the evaluation metrics\n",
        "print(f\"Accuracy: {accuracy}\")\n",
        "print(f\"Precision: {precision}\")\n",
        "print(f\"Recall: {recall}\")\n",
        "print(f\"F1-Score: {f1}\")\n",
        "print(f\"RMSE: {rmse}\")\n",
        "print(f\"MAE: {mae}\")\n"
      ],
      "metadata": {
        "colab": {
          "base_uri": "https://localhost:8080/"
        },
        "id": "x3_VRKfpRNP3",
        "outputId": "c79a2924-041b-463d-8aa7-f62435e22b8a"
      },
      "execution_count": 4,
      "outputs": [
        {
          "output_type": "stream",
          "name": "stdout",
          "text": [
            "Accuracy: 0.8532110091743119\n",
            "Precision: 0.92\n",
            "Recall: 0.7931034482758621\n",
            "F1-Score: 0.851851851851852\n",
            "RMSE: 0.33572249520072167\n",
            "MAE: 0.22364744753408405\n"
          ]
        }
      ]
    },
    {
      "cell_type": "markdown",
      "source": [
        "**2-Multinomial Logistic Regression**"
      ],
      "metadata": {
        "id": "AVpEwjf8RYd3"
      }
    },
    {
      "cell_type": "code",
      "source": [
        "import pandas as pd\n",
        "from sklearn.preprocessing import StandardScaler\n",
        "from sklearn.model_selection import train_test_split\n",
        "from sklearn.linear_model import LogisticRegression\n",
        "from sklearn.metrics import accuracy_score, precision_score, recall_score, f1_score, mean_squared_error, mean_absolute_error\n",
        "import numpy as np\n",
        "\n",
        "# Load the dataset\n",
        "file_path = '/content/drive/MyDrive/AI_project_Dataset/Housing.csv'\n",
        "data = pd.read_csv('/content/drive/MyDrive/AI_project_Dataset/Housing.csv')\n",
        "\n",
        "# Assuming the target variable is 'price' and the rest are features\n",
        "X = data.drop('price', axis=1)\n",
        "y = data['price']\n",
        "\n",
        "# Convert the target variable to a multinomial classification problem\n",
        "# For simplicity, we can use tertiles to create three classes: low, medium, high price\n",
        "y_multinomial = pd.qcut(y, q=3, labels=[0, 1, 2])\n",
        "\n",
        "# Encoding categorical variables if any\n",
        "X = pd.get_dummies(X)\n",
        "\n",
        "# Scaling the features\n",
        "scaler = StandardScaler()\n",
        "X_scaled = scaler.fit_transform(X)\n",
        "\n",
        "# Splitting the data into training and testing sets\n",
        "X_train, X_test, y_train, y_test = train_test_split(X_scaled, y_multinomial, test_size=0.2, random_state=42)\n",
        "\n",
        "# Applying Multinomial Logistic Regression\n",
        "model = LogisticRegression(random_state=42, multi_class='multinomial', solver='lbfgs')\n",
        "model.fit(X_train, y_train)\n",
        "\n",
        "# Making predictions\n",
        "y_pred = model.predict(X_test)\n",
        "y_pred_prob = model.predict_proba(X_test)\n",
        "\n",
        "# Evaluating the model\n",
        "accuracy = accuracy_score(y_test, y_pred)\n",
        "precision = precision_score(y_test, y_pred, average='weighted')\n",
        "recall = recall_score(y_test, y_pred, average='weighted')\n",
        "f1 = f1_score(y_test, y_pred, average='weighted')\n",
        "rmse = np.sqrt(mean_squared_error(pd.get_dummies(y_test), y_pred_prob))\n",
        "mae = mean_absolute_error(pd.get_dummies(y_test), y_pred_prob)\n",
        "\n",
        "# Print the evaluation metrics\n",
        "print(f\"Accuracy: {accuracy}\")\n",
        "print(f\"Precision: {precision}\")\n",
        "print(f\"Recall: {recall}\")\n",
        "print(f\"F1-Score: {f1}\")\n",
        "print(f\"RMSE: {rmse}\")\n",
        "print(f\"MAE: {mae}\")\n"
      ],
      "metadata": {
        "colab": {
          "base_uri": "https://localhost:8080/"
        },
        "id": "Odwfb8pRRjp-",
        "outputId": "fb4e67a5-bb9d-43d1-ea70-3432607b6b1f"
      },
      "execution_count": 5,
      "outputs": [
        {
          "output_type": "stream",
          "name": "stdout",
          "text": [
            "Accuracy: 0.7522935779816514\n",
            "Precision: 0.7724869690103877\n",
            "Recall: 0.7522935779816514\n",
            "F1-Score: 0.7597119703933546\n",
            "RMSE: 0.3367747532965083\n",
            "MAE: 0.23045531609592293\n"
          ]
        }
      ]
    },
    {
      "cell_type": "markdown",
      "source": [
        "**3-Gradient Boosting Machine**"
      ],
      "metadata": {
        "id": "tmXWWx1JR8ut"
      }
    },
    {
      "cell_type": "code",
      "source": [
        "import pandas as pd\n",
        "from sklearn.preprocessing import StandardScaler\n",
        "from sklearn.model_selection import train_test_split\n",
        "from sklearn.ensemble import GradientBoostingRegressor\n",
        "from sklearn.metrics import mean_squared_error, mean_absolute_error, r2_score, accuracy_score, precision_score, recall_score, f1_score\n",
        "import numpy as np\n",
        "\n",
        "# Load the dataset\n",
        "file_path = '/content/drive/MyDrive/AI_project_Dataset/Housing.csv'\n",
        "data = pd.read_csv('/content/drive/MyDrive/AI_project_Dataset/Housing.csv')\n",
        "\n",
        "# Assuming the target variable is 'price' and the rest are features\n",
        "X = data.drop('price', axis=1)\n",
        "y = data['price']\n",
        "\n",
        "# Encoding categorical variables if any\n",
        "X = pd.get_dummies(X)\n",
        "\n",
        "# Scaling the features\n",
        "scaler = StandardScaler()\n",
        "X_scaled = scaler.fit_transform(X)\n",
        "\n",
        "# Splitting the data into training and testing sets\n",
        "X_train, X_test, y_train, y_test = train_test_split(X_scaled, y, test_size=0.2, random_state=42)\n",
        "\n",
        "# Applying Gradient Boosting Regression\n",
        "model = GradientBoostingRegressor(random_state=42, n_estimators=100, learning_rate=0.1, max_depth=3)\n",
        "model.fit(X_train, y_train)\n",
        "\n",
        "# Making predictions\n",
        "y_pred = model.predict(X_test)\n",
        "\n",
        "# Evaluating the model\n",
        "rmse = mean_squared_error(y_test, y_pred, squared=False)\n",
        "mae = mean_absolute_error(y_test, y_pred)\n",
        "r2 = r2_score(y_test, y_pred)\n",
        "\n",
        "# For classification metrics, assuming a threshold\n",
        "threshold = y.median()\n",
        "y_test_class = (y_test > threshold).astype(int)\n",
        "y_pred_class = (y_pred > threshold).astype(int)\n",
        "\n",
        "accuracy = accuracy_score(y_test_class, y_pred_class)\n",
        "precision = precision_score(y_test_class, y_pred_class)\n",
        "recall = recall_score(y_test_class, y_pred_class)\n",
        "f1 = f1_score(y_test_class, y_pred_class)\n",
        "\n",
        "# Print the evaluation metrics\n",
        "print(f\"RMSE: {rmse}\")\n",
        "print(f\"MAE: {mae}\")\n",
        "print(f\"R2 Score: {r2}\")\n",
        "print(f\"Accuracy: {accuracy}\")\n",
        "print(f\"Precision: {precision}\")\n",
        "print(f\"Recall: {recall}\")\n",
        "print(f\"F1-Score: {f1}\")\n"
      ],
      "metadata": {
        "colab": {
          "base_uri": "https://localhost:8080/"
        },
        "id": "hd3KGcQ3SKEt",
        "outputId": "d77ee6bb-46fb-4dc2-b6c5-bba10db5423e"
      },
      "execution_count": 6,
      "outputs": [
        {
          "output_type": "stream",
          "name": "stdout",
          "text": [
            "RMSE: 1302029.7157708362\n",
            "MAE: 969452.6999702812\n",
            "R2 Score: 0.6646042495954598\n",
            "Accuracy: 0.7981651376146789\n",
            "Precision: 0.8214285714285714\n",
            "Recall: 0.7931034482758621\n",
            "F1-Score: 0.8070175438596492\n"
          ]
        }
      ]
    },
    {
      "cell_type": "markdown",
      "source": [
        "**4-Support Vector Machines**"
      ],
      "metadata": {
        "id": "VKcFsJM2SkWm"
      }
    },
    {
      "cell_type": "code",
      "source": [
        "import pandas as pd\n",
        "from sklearn.preprocessing import LabelEncoder, StandardScaler\n",
        "from sklearn.model_selection import train_test_split\n",
        "from sklearn.svm import SVR\n",
        "from sklearn.metrics import mean_absolute_error, mean_squared_error\n",
        "import numpy as np\n",
        "\n",
        "# Load the dataset\n",
        "file_path = '/content/drive/MyDrive/AI_project_Dataset/Housing.csv'\n",
        "df = pd.read_csv('/content/drive/MyDrive/AI_project_Dataset/Housing.csv')\n",
        "\n",
        "# Encode categorical features\n",
        "label_encoders = {}\n",
        "categorical_columns = df.select_dtypes(include=['object']).columns\n",
        "\n",
        "for col in categorical_columns:\n",
        "    le = LabelEncoder()\n",
        "    df[col] = le.fit_transform(df[col])\n",
        "    label_encoders[col] = le\n",
        "\n",
        "# Split the data into features and target\n",
        "X = df.drop('price', axis=1)\n",
        "y = df['price']\n",
        "\n",
        "# Normalize the data\n",
        "scaler = StandardScaler()\n",
        "X_scaled = scaler.fit_transform(X)\n",
        "\n",
        "# Split the data into training and testing sets\n",
        "X_train, X_test, y_train, y_test = train_test_split(X_scaled, y, test_size=0.2, random_state=42)\n",
        "\n",
        "# Train the SVR model\n",
        "svr = SVR()\n",
        "svr.fit(X_train, y_train)\n",
        "\n",
        "# Make predictions\n",
        "y_pred = svr.predict(X_test)\n",
        "\n",
        "# Evaluate the model\n",
        "mae = mean_absolute_error(y_test, y_pred)\n",
        "rmse = np.sqrt(mean_squared_error(y_test, y_pred))\n",
        "\n",
        "# Print evaluation results\n",
        "print(f\"Mean Absolute Error (MAE): {mae}\")\n",
        "print(f\"Root Mean Squared Error (RMSE): {rmse}\")\n"
      ],
      "metadata": {
        "colab": {
          "base_uri": "https://localhost:8080/"
        },
        "id": "OZHiANMlStp1",
        "outputId": "94359151-0f7b-4071-c1ac-3f5d6f27dd38"
      },
      "execution_count": 7,
      "outputs": [
        {
          "output_type": "stream",
          "name": "stdout",
          "text": [
            "Mean Absolute Error (MAE): 1763889.461626673\n",
            "Root Mean Squared Error (RMSE): 2359647.7903070115\n"
          ]
        }
      ]
    },
    {
      "cell_type": "markdown",
      "source": [
        "**5-K-Nearest Neighbours (KNN)**"
      ],
      "metadata": {
        "id": "tKefieO0ThlV"
      }
    },
    {
      "cell_type": "code",
      "source": [
        "import pandas as pd\n",
        "from sklearn.preprocessing import LabelEncoder, StandardScaler\n",
        "from sklearn.model_selection import train_test_split\n",
        "from sklearn.neighbors import KNeighborsClassifier\n",
        "from sklearn.metrics import accuracy_score, precision_score, recall_score, f1_score, mean_absolute_error, mean_squared_error\n",
        "import numpy as np\n",
        "\n",
        "# Load the dataset\n",
        "file_path = '/content/drive/MyDrive/AI_project_Dataset/Housing.csv'\n",
        "df = pd.read_csv('/content/drive/MyDrive/AI_project_Dataset/Housing.csv')\n",
        "\n",
        "# Encode categorical features\n",
        "label_encoders = {}\n",
        "categorical_columns = df.select_dtypes(include=['object']).columns\n",
        "\n",
        "for col in categorical_columns:\n",
        "    le = LabelEncoder()\n",
        "    df[col] = le.fit_transform(df[col])\n",
        "    label_encoders[col] = le\n",
        "\n",
        "# Split the data into features and target\n",
        "X = df.drop('price', axis=1)  # Replace 'price' with your target column for classification\n",
        "y = df['price']\n",
        "\n",
        "# Normalize the data\n",
        "scaler = StandardScaler()\n",
        "X_scaled = scaler.fit_transform(X)\n",
        "\n",
        "# Split the data into training and testing sets\n",
        "X_train, X_test, y_train, y_test = train_test_split(X_scaled, y, test_size=0.2, random_state=42)\n",
        "\n",
        "# Train the KNN model\n",
        "knn = KNeighborsClassifier(n_neighbors=5)\n",
        "knn.fit(X_train, y_train)\n",
        "\n",
        "# Make predictions\n",
        "y_pred = knn.predict(X_test)\n",
        "\n",
        "# Evaluate the model\n",
        "accuracy = accuracy_score(y_test, y_pred)\n",
        "precision = precision_score(y_test, y_pred, average='weighted')\n",
        "recall = recall_score(y_test, y_pred, average='weighted')\n",
        "f1 = f1_score(y_test, y_pred, average='weighted')\n",
        "mae = mean_absolute_error(y_test, y_pred)\n",
        "rmse = np.sqrt(mean_squared_error(y_test, y_pred))\n",
        "\n",
        "# Print evaluation results\n",
        "print(f\"Accuracy: {accuracy}\")\n",
        "print(f\"Precision: {precision}\")\n",
        "print(f\"Recall: {recall}\")\n",
        "print(f\"F1-score: {f1}\")\n",
        "print(f\"Mean Absolute Error (MAE): {mae}\")\n",
        "print(f\"Root Mean Squared Error (RMSE): {rmse}\")\n"
      ],
      "metadata": {
        "colab": {
          "base_uri": "https://localhost:8080/"
        },
        "id": "iihis_pTTthE",
        "outputId": "52f6a4c9-ac75-4f1e-cd45-7e7c8e1b8a2c"
      },
      "execution_count": 8,
      "outputs": [
        {
          "output_type": "stream",
          "name": "stdout",
          "text": [
            "Accuracy: 0.0\n",
            "Precision: 0.0\n",
            "Recall: 0.0\n",
            "F1-score: 0.0\n",
            "Mean Absolute Error (MAE): 1553165.1376146788\n",
            "Root Mean Squared Error (RMSE): 2173571.267206082\n"
          ]
        },
        {
          "output_type": "stream",
          "name": "stderr",
          "text": [
            "/usr/local/lib/python3.10/dist-packages/sklearn/metrics/_classification.py:1344: UndefinedMetricWarning: Precision is ill-defined and being set to 0.0 in labels with no predicted samples. Use `zero_division` parameter to control this behavior.\n",
            "  _warn_prf(average, modifier, msg_start, len(result))\n",
            "/usr/local/lib/python3.10/dist-packages/sklearn/metrics/_classification.py:1344: UndefinedMetricWarning: Recall is ill-defined and being set to 0.0 in labels with no true samples. Use `zero_division` parameter to control this behavior.\n",
            "  _warn_prf(average, modifier, msg_start, len(result))\n"
          ]
        }
      ]
    }
  ]
}
