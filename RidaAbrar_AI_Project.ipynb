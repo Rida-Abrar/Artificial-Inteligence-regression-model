{
  "nbformat": 4,
  "nbformat_minor": 0,
  "metadata": {
    "colab": {
      "provenance": []
    },
    "kernelspec": {
      "name": "python3",
      "display_name": "Python 3"
    },
    "language_info": {
      "name": "python"
    }
  },
  "cells": [
    {
      "cell_type": "markdown",
      "source": [
        "Artifacial Intelligence LAB Project F2021266028 (Rida Abrar)"
      ],
      "metadata": {
        "id": "2KZ2lc39FEOC"
      }
    },
    {
      "cell_type": "markdown",
      "source": [
        "**1-Logistic Regression:**"
      ],
      "metadata": {
        "id": "ujez213oLDBB"
      }
    },
    {
      "cell_type": "code",
      "source": [
        "import pandas as pd\n",
        "from sklearn.model_selection import train_test_split\n",
        "from sklearn.linear_model import LogisticRegression\n",
        "from sklearn.metrics import accuracy_score, precision_score, recall_score, f1_score, mean_squared_error, mean_absolute_error, confusion_matrix, classification_report\n",
        "import numpy as np\n",
        "\n",
        "# Load the dataset\n",
        "df = pd.read_csv('/content/drive/MyDrive/AI_project_Dataset/Thyroid_Diff.csv')\n",
        "\n",
        "# Preprocessing: Convert categorical variables to dummy variables\n",
        "df = pd.get_dummies(df, drop_first=True)\n",
        "\n",
        "# Define features and target variable\n",
        "X = df.drop('Recurred_Yes', axis=1)  # Adjust based on your column encoding\n",
        "y = df['Recurred_Yes']\n",
        "\n",
        "# Split the data into training and testing sets\n",
        "X_train, X_test, y_train, y_test = train_test_split(X, y, test_size=0.2, random_state=42)\n",
        "\n",
        "# Initialize and train the logistic regression model\n",
        "model = LogisticRegression(max_iter=1000)\n",
        "model.fit(X_train, y_train)\n",
        "\n",
        "# Make predictions\n",
        "y_pred = model.predict(X_test)\n",
        "y_pred_prob = model.predict_proba(X_test)[:, 1]  # Get the probabilities for the positive class\n",
        "\n",
        "# Evaluate the model\n",
        "accuracy = accuracy_score(y_test, y_pred)\n",
        "precision = precision_score(y_test, y_pred)\n",
        "recall = recall_score(y_test, y_pred)\n",
        "f1 = f1_score(y_test, y_pred)\n",
        "rmse = np.sqrt(mean_squared_error(y_test, y_pred_prob))  # Use probabilities for RMSE\n",
        "mae = mean_absolute_error(y_test, y_pred_prob)  # Use probabilities for MAE\n",
        "\n",
        "# Print evaluation metrics\n",
        "print(f'Accuracy: {accuracy}')\n",
        "print(f'Precision: {precision}')\n",
        "print(f'Recall: {recall}')\n",
        "print(f'F1 Score: {f1}')\n",
        "print(f'RMSE: {rmse}')\n",
        "print(f'MAE: {mae}')\n",
        "\n",
        "# Detailed classification report\n",
        "print('\\nClassification Report:\\n', classification_report(y_test, y_pred))\n",
        "\n",
        "# Confusion matrix\n",
        "print('\\nConfusion Matrix:\\n', confusion_matrix(y_test, y_pred))\n",
        "\n"
      ],
      "metadata": {
        "colab": {
          "base_uri": "https://localhost:8080/"
        },
        "id": "N0kfU-moFbji",
        "outputId": "b9eba9dc-4c7d-4ca4-9e84-264444783eb4"
      },
      "execution_count": 2,
      "outputs": [
        {
          "output_type": "stream",
          "name": "stdout",
          "text": [
            "Accuracy: 0.987012987012987\n",
            "Precision: 1.0\n",
            "Recall: 0.9473684210526315\n",
            "F1 Score: 0.972972972972973\n",
            "RMSE: 0.15685764998187254\n",
            "MAE: 0.06428868667184154\n",
            "\n",
            "Classification Report:\n",
            "               precision    recall  f1-score   support\n",
            "\n",
            "       False       0.98      1.00      0.99        58\n",
            "        True       1.00      0.95      0.97        19\n",
            "\n",
            "    accuracy                           0.99        77\n",
            "   macro avg       0.99      0.97      0.98        77\n",
            "weighted avg       0.99      0.99      0.99        77\n",
            "\n",
            "\n",
            "Confusion Matrix:\n",
            " [[58  0]\n",
            " [ 1 18]]\n"
          ]
        }
      ]
    },
    {
      "cell_type": "markdown",
      "source": [
        "**2-Multinomial Logistic Regression:**"
      ],
      "metadata": {
        "id": "q6obKnhULOi5"
      }
    },
    {
      "cell_type": "code",
      "source": [
        "import pandas as pd\n",
        "from sklearn.model_selection import train_test_split\n",
        "from sklearn.preprocessing import StandardScaler, OneHotEncoder\n",
        "from sklearn.compose import ColumnTransformer\n",
        "from sklearn.pipeline import Pipeline\n",
        "from sklearn.linear_model import LogisticRegression\n",
        "from sklearn.metrics import classification_report, accuracy_score\n",
        "# Load the dataset\n",
        "file_path = '/content/drive/MyDrive/AI_project_Dataset/Thyroid_Diff.csv'\n",
        "df = pd.read_csv('/content/drive/MyDrive/AI_project_Dataset/Thyroid_Diff.csv')\n",
        "# Select features and target variable\n",
        "X = df.drop(columns='Response')\n",
        "y = df['Response']\n",
        "\n",
        "# Preprocess the data\n",
        "numeric_features = X.select_dtypes(include=['int64', 'float64']).columns\n",
        "categorical_features = X.select_dtypes(include=['object']).columns\n",
        "\n",
        "# Create a column transformer for preprocessing\n",
        "preprocessor = ColumnTransformer(\n",
        "    transformers=[\n",
        "        ('num', StandardScaler(), numeric_features),\n",
        "        ('cat', OneHotEncoder(), categorical_features)\n",
        "    ])\n",
        "\n",
        "# Create a pipeline with preprocessing and logistic regression\n",
        "model = Pipeline(steps=[\n",
        "    ('preprocessor', preprocessor),\n",
        "    ('classifier', LogisticRegression(multi_class='multinomial', solver='lbfgs', max_iter=500))\n",
        "])\n",
        "\n",
        "# Split the data into training and testing sets\n",
        "X_train, X_test, y_train, y_test = train_test_split(X, y, test_size=0.2, random_state=42)\n",
        "\n",
        "# Train the model\n",
        "model.fit(X_train, y_train)\n",
        "\n",
        "# Make predictions\n",
        "y_pred = model.predict(X_test)\n",
        "\n",
        "# Evaluate the model\n",
        "print(\"Accuracy:\", accuracy_score(y_test, y_pred))\n",
        "print(\"Classification Report:\\n\", classification_report(y_test, y_pred))\n",
        "\n",
        "# Detailed classification report\n",
        "print('\\nClassification Report:\\n', classification_report(y_test, y_pred))\n",
        "\n",
        "# Confusion matrix\n",
        "print('\\nConfusion Matrix:\\n', confusion_matrix(y_test, y_pred))"
      ],
      "metadata": {
        "colab": {
          "base_uri": "https://localhost:8080/"
        },
        "id": "_p5kcCapLYBZ",
        "outputId": "ffe94aa5-4a78-4b1b-a15f-43631d9f89b4"
      },
      "execution_count": 7,
      "outputs": [
        {
          "output_type": "stream",
          "name": "stdout",
          "text": [
            "Accuracy: 0.7662337662337663\n",
            "Classification Report:\n",
            "                         precision    recall  f1-score   support\n",
            "\n",
            "Biochemical Incomplete       0.00      0.00      0.00         3\n",
            "             Excellent       0.83      0.92      0.87        48\n",
            "         Indeterminate       0.20      0.10      0.13        10\n",
            " Structural Incomplete       0.82      0.88      0.85        16\n",
            "\n",
            "              accuracy                           0.77        77\n",
            "             macro avg       0.46      0.47      0.46        77\n",
            "          weighted avg       0.71      0.77      0.74        77\n",
            "\n",
            "\n",
            "Classification Report:\n",
            "                         precision    recall  f1-score   support\n",
            "\n",
            "Biochemical Incomplete       0.00      0.00      0.00         3\n",
            "             Excellent       0.83      0.92      0.87        48\n",
            "         Indeterminate       0.20      0.10      0.13        10\n",
            " Structural Incomplete       0.82      0.88      0.85        16\n",
            "\n",
            "              accuracy                           0.77        77\n",
            "             macro avg       0.46      0.47      0.46        77\n",
            "          weighted avg       0.71      0.77      0.74        77\n",
            "\n",
            "\n",
            "Confusion Matrix:\n",
            " [[ 0  1  0  2]\n",
            " [ 0 44  4  0]\n",
            " [ 0  8  1  1]\n",
            " [ 2  0  0 14]]\n"
          ]
        }
      ]
    },
    {
      "cell_type": "markdown",
      "source": [
        "**3-Random Forest**"
      ],
      "metadata": {
        "id": "6SGUokQHOhRe"
      }
    },
    {
      "cell_type": "code",
      "source": [
        "import pandas as pd\n",
        "from sklearn.model_selection import train_test_split\n",
        "from sklearn.preprocessing import StandardScaler, OneHotEncoder, LabelEncoder\n",
        "from sklearn.compose import ColumnTransformer\n",
        "from sklearn.pipeline import Pipeline\n",
        "from sklearn.ensemble import RandomForestClassifier\n",
        "from sklearn.metrics import classification_report, accuracy_score, mean_squared_error, mean_absolute_error\n",
        "import numpy as np\n",
        "\n",
        "# Load the dataset\n",
        "file_path = '/content/drive/MyDrive/AI_project_Dataset/Thyroid_Diff.csv'\n",
        "df = pd.read_csv('/content/drive/MyDrive/AI_project_Dataset/Thyroid_Diff.csv')\n",
        "\n",
        "# Select features and target variable\n",
        "X = df.drop(columns='Response')\n",
        "y = df['Response']\n",
        "\n",
        "# Encode the target variable\n",
        "label_encoder = LabelEncoder()\n",
        "y_encoded = label_encoder.fit_transform(y)\n",
        "\n",
        "# Preprocess the data\n",
        "numeric_features = X.select_dtypes(include=['int64', 'float64']).columns\n",
        "categorical_features = X.select_dtypes(include=['object']).columns\n",
        "\n",
        "# Create a column transformer for preprocessing\n",
        "preprocessor = ColumnTransformer(\n",
        "    transformers=[\n",
        "        ('num', StandardScaler(), numeric_features),\n",
        "        ('cat', OneHotEncoder(), categorical_features)\n",
        "    ])\n",
        "\n",
        "# Create a pipeline with preprocessing and random forest classifier\n",
        "model = Pipeline(steps=[\n",
        "    ('preprocessor', preprocessor),\n",
        "    ('classifier', RandomForestClassifier(n_estimators=100, random_state=42))\n",
        "])\n",
        "\n",
        "# Split the data into training and testing sets\n",
        "X_train, X_test, y_train, y_test = train_test_split(X, y_encoded, test_size=0.2, random_state=42)\n",
        "\n",
        "# Train the model\n",
        "model.fit(X_train, y_train)\n",
        "\n",
        "# Make predictions\n",
        "y_pred = model.predict(X_test)\n",
        "\n",
        "# Evaluate the model\n",
        "accuracy = accuracy_score(y_test, y_pred)\n",
        "classification_report_result = classification_report(y_test, y_pred, output_dict=True)\n",
        "precision = classification_report_result['weighted avg']['precision']\n",
        "recall = classification_report_result['weighted avg']['recall']\n",
        "f1_score = classification_report_result['weighted avg']['f1-score']\n",
        "rmse = np.sqrt(mean_squared_error(y_test, y_pred))\n",
        "mae = mean_absolute_error(y_test, y_pred)\n",
        "\n",
        "print(\"Accuracy:\", accuracy)\n",
        "print(\"Precision:\", precision)\n",
        "print(\"Recall:\", recall)\n",
        "print(\"F1-Score:\", f1_score)\n",
        "print(\"RMSE:\", rmse)\n",
        "print(\"MAE:\", mae)\n",
        "print(\"\\nFull Classification Report:\\n\", classification_report(y_test, y_pred))\n"
      ],
      "metadata": {
        "colab": {
          "base_uri": "https://localhost:8080/"
        },
        "id": "Qvv-GRhoOpLT",
        "outputId": "8f3eb8fe-4602-4bdc-831c-05cd8751459e"
      },
      "execution_count": 12,
      "outputs": [
        {
          "output_type": "stream",
          "name": "stdout",
          "text": [
            "Accuracy: 0.7662337662337663\n",
            "Precision: 0.7398738032465209\n",
            "Recall: 0.7662337662337663\n",
            "F1-Score: 0.7494271560545492\n",
            "RMSE: 0.6644986392449886\n",
            "MAE: 0.2857142857142857\n",
            "\n",
            "Full Classification Report:\n",
            "               precision    recall  f1-score   support\n",
            "\n",
            "           0       0.00      0.00      0.00         3\n",
            "           1       0.84      0.85      0.85        48\n",
            "           2       0.33      0.20      0.25        10\n",
            "           3       0.84      1.00      0.91        16\n",
            "\n",
            "    accuracy                           0.77        77\n",
            "   macro avg       0.50      0.51      0.50        77\n",
            "weighted avg       0.74      0.77      0.75        77\n",
            "\n"
          ]
        }
      ]
    },
    {
      "cell_type": "markdown",
      "source": [
        "**4-Gradient Boosting Machines(GBM)**"
      ],
      "metadata": {
        "id": "7eJZx44jQOkc"
      }
    },
    {
      "cell_type": "code",
      "source": [
        "import pandas as pd\n",
        "from sklearn.model_selection import train_test_split\n",
        "from sklearn.preprocessing import StandardScaler, OneHotEncoder, LabelEncoder\n",
        "from sklearn.compose import ColumnTransformer\n",
        "from sklearn.pipeline import Pipeline\n",
        "from sklearn.ensemble import GradientBoostingClassifier\n",
        "from sklearn.metrics import classification_report, accuracy_score, mean_squared_error, mean_absolute_error\n",
        "import numpy as np\n",
        "\n",
        "# Load the dataset\n",
        "file_path = '/content/drive/MyDrive/AI_project_Dataset/Thyroid_Diff.csv'\n",
        "df = pd.read_csv('/content/drive/MyDrive/AI_project_Dataset/Thyroid_Diff.csv')\n",
        "\n",
        "# Helper function to preprocess, train, and evaluate the model\n",
        "def train_and_evaluate(df, target):\n",
        "    # Select features and target variable\n",
        "    X = df.drop(columns=[target])\n",
        "    y = df[target]\n",
        "\n",
        "    # Encode the target variable\n",
        "    label_encoder = LabelEncoder()\n",
        "    y_encoded = label_encoder.fit_transform(y)\n",
        "\n",
        "    # Preprocess the data\n",
        "    numeric_features = X.select_dtypes(include=['int64', 'float64']).columns\n",
        "    categorical_features = X.select_dtypes(include=['object']).columns\n",
        "\n",
        "    # Create a column transformer for preprocessing\n",
        "    preprocessor = ColumnTransformer(\n",
        "        transformers=[\n",
        "            ('num', StandardScaler(), numeric_features),\n",
        "            ('cat', OneHotEncoder(), categorical_features)\n",
        "        ])\n",
        "\n",
        "    # Create a pipeline with preprocessing and gradient boosting classifier\n",
        "    model = Pipeline(steps=[\n",
        "        ('preprocessor', preprocessor),\n",
        "        ('classifier', GradientBoostingClassifier(random_state=42))\n",
        "    ])\n",
        "\n",
        "    # Split the data into training and testing sets\n",
        "    X_train, X_test, y_train, y_test = train_test_split(X, y_encoded, test_size=0.2, random_state=42)\n",
        "\n",
        "    # Train the model\n",
        "    model.fit(X_train, y_train)\n",
        "\n",
        "    # Make predictions\n",
        "    y_pred = model.predict(X_test)\n",
        "\n",
        "    # Evaluate the model\n",
        "    accuracy = accuracy_score(y_test, y_pred)\n",
        "    classification_report_result = classification_report(y_test, y_pred, output_dict=True)\n",
        "    precision = classification_report_result['weighted avg']['precision']\n",
        "    recall = classification_report_result['weighted avg']['recall']\n",
        "    f1_score = classification_report_result['weighted avg']['f1-score']\n",
        "    rmse = np.sqrt(mean_squared_error(y_test, y_pred))\n",
        "    mae = mean_absolute_error(y_test, y_pred)\n",
        "\n",
        "    # Print evaluation results\n",
        "    print(f\"Results for {target}:\")\n",
        "    print(\"Accuracy:\", accuracy)\n",
        "    print(\"Precision:\", precision)\n",
        "    print(\"Recall:\", recall)\n",
        "    print(\"F1-Score:\", f1_score)\n",
        "    print(\"RMSE:\", rmse)\n",
        "    print(\"MAE:\", mae)\n",
        "    print(\"\\nFull Classification Report:\\n\", classification_report(y_test, y_pred))\n",
        "    print(\"\\n\" + \"-\"*80 + \"\\n\")\n",
        "\n",
        "# Train and evaluate for 'Response'\n",
        "train_and_evaluate(df, 'Response')\n",
        "\n",
        "# Train and evaluate for 'Recurred'\n",
        "train_and_evaluate(df, 'Recurred')\n",
        "\n"
      ],
      "metadata": {
        "colab": {
          "base_uri": "https://localhost:8080/"
        },
        "id": "ad6MOsKUQYxM",
        "outputId": "1a585d58-215d-4cd8-bbd1-d68fd5518fcd"
      },
      "execution_count": 14,
      "outputs": [
        {
          "output_type": "stream",
          "name": "stdout",
          "text": [
            "Results for Response:\n",
            "Accuracy: 0.8181818181818182\n",
            "Precision: 0.7756132756132756\n",
            "Recall: 0.8181818181818182\n",
            "F1-Score: 0.7836407290188803\n",
            "RMSE: 0.5345224838248488\n",
            "MAE: 0.2077922077922078\n",
            "\n",
            "Full Classification Report:\n",
            "               precision    recall  f1-score   support\n",
            "\n",
            "           0       1.00      0.33      0.50         3\n",
            "           1       0.83      0.94      0.88        48\n",
            "           2       0.25      0.10      0.14        10\n",
            "           3       0.89      1.00      0.94        16\n",
            "\n",
            "    accuracy                           0.82        77\n",
            "   macro avg       0.74      0.59      0.62        77\n",
            "weighted avg       0.78      0.82      0.78        77\n",
            "\n",
            "\n",
            "--------------------------------------------------------------------------------\n",
            "\n",
            "Results for Recurred:\n",
            "Accuracy: 0.974025974025974\n",
            "Precision: 0.974025974025974\n",
            "Recall: 0.974025974025974\n",
            "F1-Score: 0.974025974025974\n",
            "RMSE: 0.16116459280507606\n",
            "MAE: 0.025974025974025976\n",
            "\n",
            "Full Classification Report:\n",
            "               precision    recall  f1-score   support\n",
            "\n",
            "           0       0.98      0.98      0.98        58\n",
            "           1       0.95      0.95      0.95        19\n",
            "\n",
            "    accuracy                           0.97        77\n",
            "   macro avg       0.97      0.97      0.97        77\n",
            "weighted avg       0.97      0.97      0.97        77\n",
            "\n",
            "\n",
            "--------------------------------------------------------------------------------\n",
            "\n"
          ]
        }
      ]
    },
    {
      "cell_type": "markdown",
      "source": [
        "**5-Support Vector Machines (SVM)**"
      ],
      "metadata": {
        "id": "8JrvxHKERwUr"
      }
    },
    {
      "cell_type": "code",
      "source": [],
      "metadata": {
        "id": "dRmYo9t8R37S"
      },
      "execution_count": null,
      "outputs": []
    }
  ]
}